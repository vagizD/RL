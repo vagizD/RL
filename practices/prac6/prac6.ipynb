{
 "cells": [
  {
   "cell_type": "markdown",
   "metadata": {
    "id": "ByKY8Rp-qjuj"
   },
   "source": [
    "# Actor-Critic\n",
    "\n",
    "Теорема о градиенте стратегии связывает градиент целевой функции  и градиент самой стратегии:\n",
    "\n",
    "$$\\nabla_\\theta J(\\theta) = \\mathbb{E}_\\pi [Q^\\pi(s, a) \\nabla_\\theta \\ln \\pi_\\theta(a \\vert s)]$$\n",
    "\n",
    "Встает вопрос, как оценить $Q^\\pi(s, a)$? В чистом policy-based алгоритме REINFORCE используется отдача $G_t$, полученная методом Монте-Карло в качестве несмещенной оценки $Q^\\pi(s, a)$. В Actor-Critic же предлагается отдельно обучать нейронную сеть Q-функции — критика.\n",
    "\n",
    "Актор-критиком часто называют обобщенный фреймворк (подход), нежели какой-то конкретный алгоритм. Как подход актор-критик не указывает, каким конкретно [policy gradient] методом обучается актор и каким [value based] методом обучается критик. Таким образом актор-критик задает целое [семейство](https://proceedings.neurips.cc/paper_files/paper/1999/file/6449f44a102fde848669bdd9eb6b76fa-Paper.pdf) различных алгоритмов. Рекомендую в качестве шпаргалки использовать упомянутый в тетрадке с REINFORCE [пост из блога Lilian Weng](https://lilianweng.github.io/posts/2018-04-08-policy-gradient/), посвященный наиболее популярным алгоритмам семейства актор-критиков\n",
    "\n",
    "В данной тетрадке познакомимся с наиболее простым вариантом актор-критика, который так и называют Actor-Critic:"
   ]
  },
  {
   "cell_type": "code",
   "execution_count": null,
   "metadata": {
    "colab": {
     "base_uri": "https://localhost:8080/"
    },
    "id": "823sXK2eqyte",
    "outputId": "9531e064-5a8f-4e81-9aef-e5000138bfa9"
   },
   "outputs": [
    {
     "name": "stdout",
     "output_type": "stream",
     "text": [
      "\u001b[33mWARNING: gymnasium 1.2.1 does not provide the extra 'accept-rom-license'\u001b[0m\u001b[33m\n",
      "\u001b[2K   \u001b[90m━━━━━━━━━━━━━━━━━━━━━━━━━━━━━━━━━━━━━━━━\u001b[0m \u001b[32m67.5/67.5 kB\u001b[0m \u001b[31m2.2 MB/s\u001b[0m eta \u001b[36m0:00:00\u001b[0m\n",
      "\u001b[?25h"
     ]
    }
   ],
   "source": [
    "# Cтавим нужные зависимости, если это колаб\n",
    "try:\n",
    "    import google.colab\n",
    "    COLAB = True\n",
    "except ModuleNotFoundError:\n",
    "    COLAB = False\n",
    "    pass\n",
    "\n",
    "if COLAB:\n",
    "    !pip -q install \"gymnasium[classic-control, atari, accept-rom-license]\"\n",
    "    !pip -q install piglet\n",
    "    !pip -q install imageio_ffmpeg\n",
    "    !pip -q install moviepy==1.0.3"
   ]
  },
  {
   "cell_type": "code",
   "execution_count": null,
   "metadata": {
    "id": "MRq9NksDrpw7"
   },
   "outputs": [],
   "source": [
    "from collections import deque\n",
    "\n",
    "import gymnasium as gym\n",
    "import numpy as np\n",
    "import pandas as pd\n",
    "import matplotlib.pyplot as plt\n",
    "\n",
    "import torch\n",
    "import torch.nn as nn\n",
    "from torch.distributions import Categorical\n",
    "\n",
    "%matplotlib inline"
   ]
  },
  {
   "cell_type": "code",
   "execution_count": null,
   "metadata": {
    "colab": {
     "base_uri": "https://localhost:8080/"
    },
    "id": "k8jg4GH8r0zr",
    "outputId": "25f1ffbe-7cd6-4d7c-da74-73110d22c35b"
   },
   "outputs": [
    {
     "name": "stdout",
     "output_type": "stream",
     "text": [
      "env.observation_space=Box([-4.8               -inf -0.41887903        -inf], [4.8               inf 0.41887903        inf], (4,), float32)\n",
      "env.action_space=Discrete(2)\n",
      "Action_space: 2 | State_space: (4,)\n"
     ]
    }
   ],
   "source": [
    "env = gym.make(\"CartPole-v1\")\n",
    "env.reset()\n",
    "\n",
    "print(f'{env.observation_space=}')\n",
    "print(f'{env.action_space=}')\n",
    "\n",
    "n_actions = env.action_space.n\n",
    "state_dim = env.observation_space.shape\n",
    "print(f'Action_space: {n_actions} | State_space: {env.observation_space.shape}')"
   ]
  },
  {
   "cell_type": "markdown",
   "metadata": {
    "id": "t0udnb6ARBTl"
   },
   "source": [
    "(1 балл)"
   ]
  },
  {
   "cell_type": "code",
   "execution_count": null,
   "metadata": {
    "id": "2ItOnbBmsDrV"
   },
   "outputs": [],
   "source": [
    "def to_tensor(x, dtype=np.float32):\n",
    "    if isinstance(x, torch.Tensor):\n",
    "        return x\n",
    "    x = np.asarray(x, dtype=dtype)\n",
    "    x = torch.from_numpy(x)\n",
    "    return x\n",
    "\n",
    "def symlog(x):\n",
    "    \"\"\"Compute symlog values for a vector `x`. It's an inverse operation for symexp.\"\"\"\n",
    "    return torch.sign(x) * torch.log(torch.abs(x) + 1)\n",
    "\n",
    "def symexp(x):\n",
    "    \"\"\"Compute symexp values for a vector `x`. It's an inverse operation for symlog.\"\"\"\n",
    "    return torch.sign(x) * (torch.exp(torch.abs(x)) - 1.0)\n",
    "\n",
    "\n",
    "class SymExpModule(nn.Module):\n",
    "    def forward(self, x):\n",
    "        return symexp(x)\n",
    "\n",
    "def select_action_eps_greedy(Q, state, epsilon):\n",
    "    \"\"\"Выбирает действие epsilon-жадно.\"\"\"\n",
    "    if not isinstance(state, torch.Tensor):\n",
    "        state = torch.tensor(state, dtype=torch.float32)\n",
    "    Q_s = Q(state).detach().numpy()\n",
    "\n",
    "    # action =\n",
    "    ####### Здесь ваш код ########\n",
    "    raise NotImplementedError\n",
    "    ##############################\n",
    "\n",
    "    action = int(action)\n",
    "    return action\n",
    "\n",
    "def sample_batch(replay_buffer, n_samples):\n",
    "    # sample randomly `n_samples` samples from replay buffer\n",
    "    # and split an array of samples into arrays: states, actions, rewards, next_actions, terminateds\n",
    "    ####### Здесь ваш код ########\n",
    "    raise NotImplementedError\n",
    "    ##############################\n",
    "\n",
    "    return np.array(states), np.array(actions), np.array(rewards), np.array(next_states), np.array(terminateds)"
   ]
  },
  {
   "cell_type": "markdown",
   "metadata": {
    "id": "RNMK_gF6sRO-"
   },
   "source": [
    "## Shared-body Actor-Critic\n",
    "\n",
    "Актор и критик могут обучаться в разных режимах — актор только on-policy (шаг обучения на текущей собранной подтраектории), а критик on-policy или off-policy (шаг обучения на текущей подтраектории или на батче из replay buffer). Это с одной стороны привносит гибкость в обучение, с другой — усложняет его.\n",
    "\n",
    "Если актор и критик оба обучаются on-policy, то имеет смысл объединить их сетки в одну и делать общий шаг обратного распространения ошибки. Однако, если они обучаются в разных режимах (и с разной частотой обновления), то велика вероятность, что их шаги обучения могут начать конфликтовать в случае общего тела — для такого варианта намного предпочтительнее разделить их на разные подсети (либо аккуратно настраивать гиперпарметры, чтобы стабилизировать обучение). В целом, рекомендуется использовать общий энкодер наблюдений, а далее как можно скорее разделять головы.\n",
    "\n",
    "Сделаем реализацию актор-критика с общим телом и с on-policy вариантом обучения."
   ]
  },
  {
   "cell_type": "code",
   "execution_count": null,
   "metadata": {
    "id": "kvvLaw3Lsd9Y"
   },
   "outputs": [],
   "source": [
    "class ActorBatch:\n",
    "    def __init__(self):\n",
    "        self.logprobs = []\n",
    "        self.q_values = []\n",
    "\n",
    "    def append(self, log_prob, q_value):\n",
    "        self.logprobs.append(log_prob)\n",
    "        self.q_values.append(q_value)\n",
    "\n",
    "    def clear(self):\n",
    "        self.logprobs.clear()\n",
    "        self.q_values.clear()"
   ]
  },
  {
   "cell_type": "markdown",
   "metadata": {
    "id": "DoTv-E6rRTfH"
   },
   "source": [
    "(3 балла)"
   ]
  },
  {
   "cell_type": "code",
   "execution_count": null,
   "metadata": {
    "id": "qtVGcaHUtSCO"
   },
   "outputs": [],
   "source": [
    "class ActorCriticModel(nn.Module):\n",
    "    def __init__(self, input_dim, hidden_dims, output_dim):\n",
    "        super().__init__()\n",
    "\n",
    "        # Инициализируйте сеть агента с двумя головами: softmax-актора и линейного критика\n",
    "        # self.net, self.actor_head, self.critic_head =\n",
    "        ####### Здесь ваш код ########\n",
    "        raise NotImplementedError\n",
    "        ##############################\n",
    "\n",
    "    def forward(self, state):\n",
    "        # Вычислите выбранное действие, логарифм вероятности его выбора и соответствующее значение Q-функции\n",
    "        ####### Здесь ваш код ########\n",
    "        raise NotImplementedError\n",
    "        ##############################\n",
    "\n",
    "        return action, log_prob, Q_s_a\n",
    "\n",
    "    def evaluate(self, state):\n",
    "        # Вычислите значения Q-функции для данного состояния\n",
    "        ####### Здесь ваш код ########\n",
    "        raise NotImplementedError\n",
    "        ##############################\n",
    "        return q_values"
   ]
  },
  {
   "cell_type": "markdown",
   "metadata": {
    "id": "Nco1WpaORXsY"
   },
   "source": [
    "(6 баллов)"
   ]
  },
  {
   "cell_type": "code",
   "execution_count": null,
   "metadata": {
    "id": "QhPhsYPBtZPg"
   },
   "outputs": [],
   "source": [
    "class ActorCriticAgent:\n",
    "    def __init__(self, state_dim, action_dim, hidden_dims, lr, gamma, critic_rb_size):\n",
    "        self.lr = lr\n",
    "        self.gamma = gamma\n",
    "\n",
    "        # Инициализируйте модель актор-критика и SGD оптимизатор (например, `torch.optim.Adam)`)\n",
    "        ####### Здесь ваш код ########\n",
    "        raise NotImplementedError\n",
    "        ##############################\n",
    "\n",
    "        self.actor_batch = ActorBatch()\n",
    "        self.critic_rb = deque(maxlen=critic_rb_size)\n",
    "\n",
    "    def act(self, state):\n",
    "        # Произведите выбор действия и сохраните необходимые данные в батч для последующего обучения\n",
    "        # Не забудьте сделать q_value.detach()\n",
    "        # self.actor_batch.append(..)\n",
    "        ####### Здесь ваш код ########\n",
    "        raise NotImplementedError\n",
    "        ##############################\n",
    "\n",
    "        return action\n",
    "\n",
    "    def append_to_replay_buffer(self, s, a, r, next_s, terminated):\n",
    "        # Добавьте новый экземпляр данных в память прецедентов.\n",
    "        ####### Здесь ваш код ########\n",
    "        raise NotImplementedError\n",
    "        ##############################\n",
    "\n",
    "    def evaluate(self, state):\n",
    "        return self.actor_critic.evaluate(state)\n",
    "\n",
    "    def update(self, rollout_size, critic_batch_size, critic_updates_per_actor):\n",
    "        if len(self.actor_batch.q_values) < rollout_size:\n",
    "            return\n",
    "\n",
    "        self.opt.zero_grad()\n",
    "        loss = self.update_critic()\n",
    "        loss += self.update_actor()\n",
    "        loss.backward()\n",
    "\n",
    "        self.opt.step()\n",
    "        self.actor_batch.clear()\n",
    "        self.critic_rb.clear()\n",
    "\n",
    "    def update_actor(self):\n",
    "        Q_s_a = to_tensor(self.actor_batch.q_values)\n",
    "        logprobs = torch.stack(self.actor_batch.logprobs)\n",
    "\n",
    "        # Реализуйте шаг обновления актора — вычислите ошибку `loss` и произведите шаг обновления градиентным спуском.\n",
    "        ####### Здесь ваш код ########\n",
    "        raise NotImplementedError\n",
    "        ##############################\n",
    "\n",
    "    def update_critic(self, batch_size, n_updates=1):\n",
    "        # Реализуйте n_updates шагов обучения критика.\n",
    "        ####### Здесь ваш код ########\n",
    "        raise NotImplementedError\n",
    "        ##############################\n",
    "\n",
    "    def compute_td_loss(\n",
    "        self, states, actions, rewards, next_states, terminateds, regularizer=0.1\n",
    "    ):\n",
    "        # переводим входные данные в тензоры\n",
    "        s = to_tensor(states)                     # shape: [batch_size, state_size]\n",
    "        a = to_tensor(actions, int).long()        # shape: [batch_size]\n",
    "        r = to_tensor(rewards)                    # shape: [batch_size]\n",
    "        s_next = to_tensor(next_states)           # shape: [batch_size, state_size]\n",
    "        term = to_tensor(terminateds, bool)       # shape: [batch_size]\n",
    "\n",
    "\n",
    "        # получаем Q[s, a] для выбранных действий в текущих состояниях (для каждого примера из батча)\n",
    "        # Q_s_a = ...\n",
    "        ####### Здесь ваш код ########\n",
    "        raise NotImplementedError\n",
    "        ##############################\n",
    "\n",
    "        # получаем Q[s_next, *] — значения полезности всех действий в следующих состояниях\n",
    "        # Q_sn = ...,\n",
    "        # а затем вычисляем V*[s_next] — оптимальные значения полезности следующих состояний\n",
    "        # V_sn = ...\n",
    "        ####### Здесь ваш код ########\n",
    "        raise NotImplementedError\n",
    "        ##############################\n",
    "\n",
    "        # вычисляем TD target и далее TD error\n",
    "        # target = ...\n",
    "        # td_error = ...\n",
    "        ####### Здесь ваш код ########\n",
    "        raise NotImplementedError\n",
    "        ##############################\n",
    "\n",
    "        # MSE loss для минимизации\n",
    "        loss = torch.mean(td_error ** 2)\n",
    "        # добавляем регуляризацию на значения Q\n",
    "        loss += regularizer * Q_s_a.mean()\n",
    "        return loss"
   ]
  },
  {
   "cell_type": "code",
   "execution_count": null,
   "metadata": {
    "id": "jAID76g8tg_R"
   },
   "outputs": [],
   "source": [
    "def run_actor_critic(\n",
    "        env_name=\"CartPole-v1\",\n",
    "        hidden_dims=(128, 128), lr=5e-4,\n",
    "        total_max_steps=200_000,\n",
    "        train_schedule=16, replay_buffer_size=50000, batch_size=64, critic_updates_per_actor=4,\n",
    "        eval_schedule=1000, smooth_ret_window=10, success_ret=200.\n",
    "):\n",
    "    env = gym.make(env_name)\n",
    "    episode_return_history = deque(maxlen=smooth_ret_window)\n",
    "\n",
    "    agent = ActorCriticAgent(\n",
    "        state_dim=env.observation_space.shape[0], action_dim=env.action_space.n, hidden_dims=hidden_dims,\n",
    "        lr=lr, gamma=.995, critic_rb_size=replay_buffer_size\n",
    "    )\n",
    "\n",
    "    s, _ = env.reset()\n",
    "    done, episode_return = False, 0.\n",
    "    eval = False\n",
    "\n",
    "    for global_step in range(1, total_max_steps+1):\n",
    "        a = agent.act(s)\n",
    "        s_next, r, terminated, truncated, _ = env.step(a)\n",
    "        episode_return += r\n",
    "        done = terminated or truncated\n",
    "\n",
    "        # train step\n",
    "        agent.append_to_replay_buffer(s, a, r, s_next, terminated)\n",
    "        agent.update(train_schedule, batch_size, critic_updates_per_actor)\n",
    "\n",
    "        # evaluate\n",
    "        if global_step % eval_schedule == 0:\n",
    "            eval = True\n",
    "\n",
    "        s = s_next\n",
    "        if done:\n",
    "            if eval:\n",
    "                episode_return_history.append(episode_return)\n",
    "                avg_return = np.mean(episode_return_history)\n",
    "                print(f'{global_step=} | {avg_return=:.3f}')\n",
    "                if avg_return >= success_ret:\n",
    "                    print('Решено!')\n",
    "                    break\n",
    "\n",
    "            s, _ = env.reset()\n",
    "            done, episode_return = False, 0.\n",
    "            eval = False\n",
    "\n",
    "run_actor_critic(eval_schedule=2000, total_max_steps=100_000)"
   ]
  }
 ],
 "metadata": {
  "colab": {
   "provenance": []
  },
  "kernelspec": {
   "display_name": "Python 3",
   "name": "python3"
  },
  "language_info": {
   "name": "python"
  }
 },
 "nbformat": 4,
 "nbformat_minor": 0
}
