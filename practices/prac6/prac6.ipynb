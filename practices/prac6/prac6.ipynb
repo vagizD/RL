{
 "cells": [
  {
   "cell_type": "markdown",
   "metadata": {
    "id": "ByKY8Rp-qjuj"
   },
   "source": [
    "# Actor-Critic\n",
    "\n",
    "Теорема о градиенте стратегии связывает градиент целевой функции  и градиент самой стратегии:\n",
    "\n",
    "$$\\nabla_\\theta J(\\theta) = \\mathbb{E}_\\pi [Q^\\pi(s, a) \\nabla_\\theta \\ln \\pi_\\theta(a \\vert s)]$$\n",
    "\n",
    "Встает вопрос, как оценить $Q^\\pi(s, a)$? В чистом policy-based алгоритме REINFORCE используется отдача $G_t$, полученная методом Монте-Карло в качестве несмещенной оценки $Q^\\pi(s, a)$. В Actor-Critic же предлагается отдельно обучать нейронную сеть Q-функции — критика.\n",
    "\n",
    "Актор-критиком часто называют обобщенный фреймворк (подход), нежели какой-то конкретный алгоритм. Как подход актор-критик не указывает, каким конкретно [policy gradient] методом обучается актор и каким [value based] методом обучается критик. Таким образом актор-критик задает целое [семейство](https://proceedings.neurips.cc/paper_files/paper/1999/file/6449f44a102fde848669bdd9eb6b76fa-Paper.pdf) различных алгоритмов. Рекомендую в качестве шпаргалки использовать упомянутый в тетрадке с REINFORCE [пост из блога Lilian Weng](https://lilianweng.github.io/posts/2018-04-08-policy-gradient/), посвященный наиболее популярным алгоритмам семейства актор-критиков\n",
    "\n",
    "В данной тетрадке познакомимся с наиболее простым вариантом актор-критика, который так и называют Actor-Critic:"
   ]
  },
  {
   "cell_type": "code",
   "execution_count": 1,
   "metadata": {
    "colab": {
     "base_uri": "https://localhost:8080/"
    },
    "id": "823sXK2eqyte",
    "outputId": "9531e064-5a8f-4e81-9aef-e5000138bfa9"
   },
   "outputs": [],
   "source": [
    "# Cтавим нужные зависимости, если это колаб\n",
    "try:\n",
    "    import google.colab\n",
    "    COLAB = True\n",
    "except ModuleNotFoundError:\n",
    "    COLAB = False\n",
    "    pass\n",
    "\n",
    "if COLAB:\n",
    "    !pip -q install \"gymnasium[classic-control, atari, accept-rom-license]\"\n",
    "    !pip -q install piglet\n",
    "    !pip -q install imageio_ffmpeg\n",
    "    !pip -q install moviepy==1.0.3"
   ]
  },
  {
   "cell_type": "code",
   "execution_count": 2,
   "metadata": {
    "id": "MRq9NksDrpw7"
   },
   "outputs": [],
   "source": [
    "from collections import deque\n",
    "\n",
    "import gymnasium as gym\n",
    "import numpy as np\n",
    "import pandas as pd\n",
    "import matplotlib.pyplot as plt\n",
    "\n",
    "import torch\n",
    "import torch.nn as nn\n",
    "from torch.distributions import Categorical\n",
    "\n",
    "%matplotlib inline"
   ]
  },
  {
   "cell_type": "code",
   "execution_count": 3,
   "metadata": {
    "colab": {
     "base_uri": "https://localhost:8080/"
    },
    "id": "k8jg4GH8r0zr",
    "outputId": "25f1ffbe-7cd6-4d7c-da74-73110d22c35b"
   },
   "outputs": [
    {
     "name": "stdout",
     "output_type": "stream",
     "text": [
      "env.observation_space=Box([-4.8000002e+00 -3.4028235e+38 -4.1887903e-01 -3.4028235e+38], [4.8000002e+00 3.4028235e+38 4.1887903e-01 3.4028235e+38], (4,), float32)\n",
      "env.action_space=Discrete(2)\n",
      "Action_space: 2 | State_space: (4,)\n"
     ]
    }
   ],
   "source": [
    "env = gym.make(\"CartPole-v1\")\n",
    "env.reset()\n",
    "\n",
    "print(f'{env.observation_space=}')\n",
    "print(f'{env.action_space=}')\n",
    "\n",
    "n_actions = env.action_space.n\n",
    "state_dim = env.observation_space.shape\n",
    "print(f'Action_space: {n_actions} | State_space: {env.observation_space.shape}')"
   ]
  },
  {
   "cell_type": "markdown",
   "metadata": {
    "id": "t0udnb6ARBTl"
   },
   "source": [
    "(1 балл)"
   ]
  },
  {
   "cell_type": "code",
   "execution_count": 4,
   "metadata": {
    "id": "2ItOnbBmsDrV"
   },
   "outputs": [],
   "source": [
    "def to_tensor(x, dtype=np.float32):\n",
    "    if isinstance(x, torch.Tensor):\n",
    "        return x\n",
    "    x = np.asarray(x, dtype=dtype)\n",
    "    x = torch.from_numpy(x)\n",
    "    return x\n",
    "\n",
    "def symlog(x):\n",
    "    \"\"\"Compute symlog values for a vector `x`. It's an inverse operation for symexp.\"\"\"\n",
    "    return torch.sign(x) * torch.log(torch.abs(x) + 1)\n",
    "\n",
    "def symexp(x):\n",
    "    \"\"\"Compute symexp values for a vector `x`. It's an inverse operation for symlog.\"\"\"\n",
    "    return torch.sign(x) * (torch.exp(torch.abs(x)) - 1.0)\n",
    "\n",
    "\n",
    "class SymExpModule(nn.Module):\n",
    "    def forward(self, x):\n",
    "        return symexp(x)\n",
    "\n",
    "def select_action_eps_greedy(Q, state, epsilon):\n",
    "    \"\"\"Выбирает действие epsilon-жадно.\"\"\"\n",
    "    if not isinstance(state, torch.Tensor):\n",
    "        state = torch.tensor(state, dtype=torch.float32)\n",
    "    Q_s = Q(state).detach().numpy()\n",
    "\n",
    "    action = np.argmax(Q_s) if np.random.rand() > epsilon else np.random.choice(list(range(Q_s.shape[-1])))\n",
    "    action = int(action)\n",
    "    return action\n",
    "\n",
    "def sample_batch(replay_buffer, n_samples):\n",
    "    n = len(replay_buffer)\n",
    "    samples_indexes = np.random.default_rng().choice(np.arange(n), size=n_samples, replace=n < n_samples)\n",
    "    samples = [replay_buffer[i] for i in samples_indexes]\n",
    "\n",
    "    states = [t[0] for t in samples]\n",
    "    actions = [t[1] for t in samples]\n",
    "    rewards = [t[2] for t in samples]\n",
    "    next_states = [t[3] for t in samples]\n",
    "    terminateds = [t[4] for t in samples]\n",
    "    return np.array(states), np.array(actions), np.array(rewards), np.array(next_states), np.array(terminateds)"
   ]
  },
  {
   "cell_type": "markdown",
   "metadata": {
    "id": "RNMK_gF6sRO-"
   },
   "source": [
    "## Shared-body Actor-Critic\n",
    "\n",
    "Актор и критик могут обучаться в разных режимах — актор только on-policy (шаг обучения на текущей собранной подтраектории), а критик on-policy или off-policy (шаг обучения на текущей подтраектории или на батче из replay buffer). Это с одной стороны привносит гибкость в обучение, с другой — усложняет его.\n",
    "\n",
    "Если актор и критик оба обучаются on-policy, то имеет смысл объединить их сетки в одну и делать общий шаг обратного распространения ошибки. Однако, если они обучаются в разных режимах (и с разной частотой обновления), то велика вероятность, что их шаги обучения могут начать конфликтовать в случае общего тела — для такого варианта намного предпочтительнее разделить их на разные подсети (либо аккуратно настраивать гиперпарметры, чтобы стабилизировать обучение). В целом, рекомендуется использовать общий энкодер наблюдений, а далее как можно скорее разделять головы.\n",
    "\n",
    "Сделаем реализацию актор-критика с общим телом и с on-policy вариантом обучения."
   ]
  },
  {
   "cell_type": "code",
   "execution_count": 5,
   "metadata": {
    "id": "kvvLaw3Lsd9Y"
   },
   "outputs": [],
   "source": [
    "class ActorBatch:\n",
    "    def __init__(self):\n",
    "        self.logprobs = []\n",
    "        self.q_values = []\n",
    "\n",
    "    def append(self, log_prob, q_value):\n",
    "        self.logprobs.append(log_prob)\n",
    "        self.q_values.append(q_value)\n",
    "\n",
    "    def clear(self):\n",
    "        self.logprobs.clear()\n",
    "        self.q_values.clear()"
   ]
  },
  {
   "cell_type": "markdown",
   "metadata": {
    "id": "DoTv-E6rRTfH"
   },
   "source": [
    "(3 балла)"
   ]
  },
  {
   "cell_type": "code",
   "execution_count": 6,
   "metadata": {},
   "outputs": [],
   "source": [
    "def create_network(input_dim, hidden_dims):\n",
    "    return nn.Sequential(\n",
    "        nn.Linear(input_dim, hidden_dims[0]),\n",
    "        nn.ReLU(),\n",
    "        nn.Linear(hidden_dims[0], hidden_dims[1]),\n",
    "        nn.ReLU()\n",
    "    )"
   ]
  },
  {
   "cell_type": "code",
   "execution_count": 7,
   "metadata": {
    "id": "qtVGcaHUtSCO"
   },
   "outputs": [],
   "source": [
    "import torch.nn.functional as F\n",
    "\n",
    "\n",
    "class ActorCriticModel(nn.Module):\n",
    "    def __init__(self, input_dim, hidden_dims, output_dim):\n",
    "        super().__init__()\n",
    "\n",
    "        # Инициализируйте сеть агента с двумя головами: softmax-актора и линейного критика\n",
    "        # self.net, self.actor_head, self.critic_head =\n",
    "        self.net = create_network(input_dim, hidden_dims)\n",
    "        self.actor_head = nn.Linear(hidden_dims[-1], output_dim)\n",
    "        self.critic_head = nn.Linear(hidden_dims[-1], output_dim)\n",
    "        self.eps = 5e-2\n",
    "        self.eps_decay_coef = 0.95\n",
    "        self.output_dim = int(output_dim)\n",
    "\n",
    "    def eps_decay(self):\n",
    "        self.eps *= self.eps_decay_coef\n",
    "\n",
    "    def forward(self, state):\n",
    "        x = self.net(state)\n",
    "        logits = self.actor_head(x)\n",
    "        dist = Categorical(logits=logits)\n",
    "        action = dist.mode if np.random.rand() > self.eps else np.random.choice(list(range(logits.shape[-1])))\n",
    "        action = int(action)\n",
    "        action = torch.tensor(action)\n",
    "        # action = dist.sample()\n",
    "        log_prob = dist.log_prob(action)\n",
    "        q_value = self.critic_head(x)[action]\n",
    "        return action, log_prob, q_value\n",
    "\n",
    "    def evaluate(self, state):\n",
    "        # Вычислите значения Q-функции для данного состояния\n",
    "        encoded_states = self.net(state)\n",
    "        q_values = self.critic_head(encoded_states)\n",
    "        return q_values"
   ]
  },
  {
   "cell_type": "markdown",
   "metadata": {
    "id": "Nco1WpaORXsY"
   },
   "source": [
    "(6 баллов)"
   ]
  },
  {
   "cell_type": "code",
   "execution_count": 8,
   "metadata": {
    "id": "QhPhsYPBtZPg"
   },
   "outputs": [],
   "source": [
    "class ActorCriticAgent:\n",
    "    def __init__(self, state_dim, action_dim, hidden_dims, lr, gamma, critic_rb_size):\n",
    "        self.lr = lr\n",
    "        self.gamma = gamma\n",
    "\n",
    "        # Инициализируйте модель актор-критика и SGD оптимизатор (например, `torch.optim.Adam)`)\n",
    "        self.actor_critic = ActorCriticModel(state_dim, hidden_dims, action_dim)\n",
    "        self.opt = torch.optim.Adam(self.actor_critic.parameters(), lr=self.lr)\n",
    "\n",
    "        self.actor_batch = ActorBatch()\n",
    "        self.critic_rb = deque(maxlen=critic_rb_size)\n",
    "\n",
    "    def act(self, state):\n",
    "        # Произведите выбор действия и сохраните необходимые данные в батч для последующего обучения\n",
    "        # Не забудьте сделать q_value.detach()\n",
    "        # self.actor_batch.append(..)\n",
    "        state = to_tensor(state)\n",
    "        action, log_prob, q_value = self.actor_critic(state)\n",
    "        self.actor_batch.append(log_prob, q_value.detach())\n",
    "        return action.item()\n",
    "\n",
    "    def append_to_replay_buffer(self, s, a, r, next_s, terminated):\n",
    "        # Добавьте новый экземпляр данных в память прецедентов.\n",
    "        self.critic_rb.append((s, a, r, next_s, terminated))\n",
    "\n",
    "    def evaluate(self, state):\n",
    "        return self.actor_critic.evaluate(state)\n",
    "\n",
    "    def update(self, rollout_size, critic_batch_size, critic_updates_per_actor):\n",
    "        if len(self.actor_batch.q_values) < rollout_size:\n",
    "            return None, None\n",
    "\n",
    "        actor_loss  = self.update_actor()\n",
    "        critic_loss = self.update_critic(critic_batch_size, critic_updates_per_actor)\n",
    "\n",
    "        # self.opt.zero_grad()\n",
    "        # critic_loss = self.update_critic(critic_batch_size, critic_updates_per_actor)\n",
    "        # actor_loss  = self.update_actor()\n",
    "        # loss = critic_loss + actor_loss\n",
    "        # loss.backward()\n",
    "\n",
    "        # self.opt.step()\n",
    "        # self.actor_batch.clear()\n",
    "        # self.critic_rb.clear()\n",
    "\n",
    "        return critic_loss.detach(), actor_loss.detach()\n",
    "\n",
    "    def update_actor(self):\n",
    "        Q_s_a = to_tensor(self.actor_batch.q_values)\n",
    "        logprobs = torch.stack(self.actor_batch.logprobs)\n",
    "\n",
    "        # Реализуйте шаг обновления актора — вычислите ошибку `loss` и произведите шаг обновления градиентным спуском.\n",
    "        advantages = Q_s_a - Q_s_a.mean()\n",
    "        loss = -(logprobs * advantages).mean()\n",
    "\n",
    "        self.opt.zero_grad()\n",
    "        loss.backward()\n",
    "        self.opt.step()\n",
    "        self.actor_batch.clear()\n",
    "\n",
    "        return loss\n",
    "\n",
    "    def update_critic(self, batch_size, n_updates=1):\n",
    "        # Реализуйте n_updates шагов обучения критика.\n",
    "        loss = torch.tensor(0.0)\n",
    "        for _ in range(n_updates):\n",
    "            batch = sample_batch(self.critic_rb, batch_size)\n",
    "            td_loss = self.compute_td_loss(*batch)\n",
    "\n",
    "            self.opt.zero_grad()\n",
    "            td_loss.backward()\n",
    "            self.opt.step()\n",
    "            loss += td_loss\n",
    "        return loss / n_updates\n",
    "        \n",
    "        # loss = torch.tensor(0.0)\n",
    "        # for _ in range(n_updates):\n",
    "        #     batch = sample_batch(self.critic_rb, batch_size)\n",
    "        #     td_loss = self.compute_td_loss(*batch)\n",
    "        #     loss += td_loss\n",
    "        # return loss / n_updates\n",
    "\n",
    "    def compute_td_loss(\n",
    "        self, states, actions, rewards, next_states, terminateds, regularizer=0.1\n",
    "    ):\n",
    "        # переводим входные данные в тензоры\n",
    "        s = to_tensor(states)                     # shape: [batch_size, state_size]\n",
    "        a = to_tensor(actions, int).long()        # shape: [batch_size]\n",
    "        r = to_tensor(rewards)                    # shape: [batch_size]\n",
    "        s_next = to_tensor(next_states)           # shape: [batch_size, state_size]\n",
    "        term = to_tensor(terminateds, bool)       # shape: [batch_size]\n",
    "\n",
    "        mask = (~term).float()\n",
    "        # получаем Q[s, a] для выбранных действий в текущих состояниях (для каждого примера из батча)\n",
    "        # Q_s_a = ...\n",
    "        Q_s_a = self.evaluate(s)[:, a]\n",
    "\n",
    "        # with torch.no_grad():\n",
    "        # получаем Q[s_next, *] — значения полезности всех действий в следующих состояниях\n",
    "        Q_sn = self.evaluate(s_next)\n",
    "\n",
    "        # а затем вычисляем V*[s_next] — оптимальные значения полезности следующих состояний\n",
    "        V_sn = torch.max(Q_sn, dim=-1)[0]\n",
    "\n",
    "        # вычисляем TD target и далее TD error\n",
    "        target = r + self.gamma * V_sn * mask\n",
    "        td_error = target - Q_s_a\n",
    "\n",
    "        # MSE loss для минимизации\n",
    "        loss = torch.mean(td_error ** 2)\n",
    "\n",
    "        # добавляем регуляризацию на значения Q\n",
    "        loss += regularizer * Q_s_a.mean()\n",
    "        return loss"
   ]
  },
  {
   "cell_type": "code",
   "execution_count": 9,
   "metadata": {
    "id": "jAID76g8tg_R"
   },
   "outputs": [
    {
     "name": "stdout",
     "output_type": "stream",
     "text": [
      "global_step=2001 | avg_return=9.000 | last_critic_loss=0.918 | last_actor_loss=-0.018 | eps=0.04750\n",
      "global_step=4011 | avg_return=11.500 | last_critic_loss=0.962 | last_actor_loss=-0.057 | eps=0.04512\n",
      "global_step=6003 | avg_return=13.333 | last_critic_loss=0.936 | last_actor_loss=-0.029 | eps=0.04287\n",
      "global_step=8009 | avg_return=13.000 | last_critic_loss=0.926 | last_actor_loss=-0.054 | eps=0.04073\n",
      "global_step=10004 | avg_return=13.600 | last_critic_loss=0.931 | last_actor_loss=-0.028 | eps=0.03869\n",
      "global_step=12002 | avg_return=13.000 | last_critic_loss=0.939 | last_actor_loss=-0.019 | eps=0.03675\n",
      "global_step=14000 | avg_return=15.143 | last_critic_loss=0.919 | last_actor_loss=-0.006 | eps=0.03492\n",
      "global_step=16002 | avg_return=15.000 | last_critic_loss=0.940 | last_actor_loss=-0.029 | eps=0.03317\n",
      "global_step=18011 | avg_return=15.111 | last_critic_loss=0.961 | last_actor_loss=0.092 | eps=0.03151\n",
      "global_step=20001 | avg_return=14.700 | last_critic_loss=0.917 | last_actor_loss=-0.032 | eps=0.02994\n",
      "global_step=22003 | avg_return=14.700 | last_critic_loss=0.954 | last_actor_loss=-0.023 | eps=0.02844\n",
      "global_step=24013 | avg_return=15.800 | last_critic_loss=0.977 | last_actor_loss=-0.032 | eps=0.02702\n",
      "global_step=26008 | avg_return=16.500 | last_critic_loss=1.007 | last_actor_loss=-0.028 | eps=0.02567\n",
      "global_step=28000 | avg_return=17.100 | last_critic_loss=0.955 | last_actor_loss=-0.000 | eps=0.02438\n",
      "global_step=30018 | avg_return=17.800 | last_critic_loss=0.967 | last_actor_loss=-0.000 | eps=0.02316\n",
      "global_step=32013 | avg_return=18.200 | last_critic_loss=0.977 | last_actor_loss=-0.047 | eps=0.02201\n",
      "global_step=34005 | avg_return=16.800 | last_critic_loss=1.029 | last_actor_loss=-0.023 | eps=0.02091\n",
      "global_step=36006 | avg_return=17.700 | last_critic_loss=0.951 | last_actor_loss=-0.000 | eps=0.01986\n",
      "global_step=38009 | avg_return=17.100 | last_critic_loss=0.949 | last_actor_loss=-0.062 | eps=0.01887\n",
      "global_step=40012 | avg_return=17.300 | last_critic_loss=0.975 | last_actor_loss=-0.054 | eps=0.01792\n",
      "global_step=42008 | avg_return=17.600 | last_critic_loss=0.933 | last_actor_loss=-0.039 | eps=0.01703\n",
      "global_step=44012 | avg_return=18.600 | last_critic_loss=0.916 | last_actor_loss=-0.000 | eps=0.01618\n",
      "global_step=46028 | avg_return=19.600 | last_critic_loss=0.962 | last_actor_loss=0.000 | eps=0.01537\n",
      "global_step=48017 | avg_return=19.700 | last_critic_loss=0.975 | last_actor_loss=-0.000 | eps=0.01460\n",
      "global_step=50009 | avg_return=18.500 | last_critic_loss=0.940 | last_actor_loss=-0.020 | eps=0.01387\n",
      "global_step=52012 | avg_return=20.600 | last_critic_loss=0.979 | last_actor_loss=-0.008 | eps=0.01318\n",
      "global_step=54014 | avg_return=20.800 | last_critic_loss=0.944 | last_actor_loss=-0.030 | eps=0.01252\n",
      "global_step=56003 | avg_return=22.300 | last_critic_loss=0.956 | last_actor_loss=-0.015 | eps=0.01189\n",
      "global_step=58005 | avg_return=22.400 | last_critic_loss=0.960 | last_actor_loss=-0.027 | eps=0.01130\n",
      "global_step=60001 | avg_return=22.300 | last_critic_loss=0.964 | last_actor_loss=-0.028 | eps=0.01073\n",
      "global_step=62033 | avg_return=24.900 | last_critic_loss=0.950 | last_actor_loss=-0.000 | eps=0.01020\n",
      "global_step=64001 | avg_return=22.900 | last_critic_loss=0.991 | last_actor_loss=-0.024 | eps=0.00969\n",
      "global_step=66021 | avg_return=21.800 | last_critic_loss=0.969 | last_actor_loss=-0.000 | eps=0.00920\n",
      "global_step=68005 | avg_return=23.000 | last_critic_loss=0.964 | last_actor_loss=-0.009 | eps=0.00874\n",
      "global_step=70003 | avg_return=23.000 | last_critic_loss=0.992 | last_actor_loss=-0.021 | eps=0.00830\n",
      "global_step=72013 | avg_return=22.900 | last_critic_loss=0.969 | last_actor_loss=0.010 | eps=0.00789\n",
      "global_step=74002 | avg_return=22.500 | last_critic_loss=0.986 | last_actor_loss=-0.019 | eps=0.00749\n",
      "global_step=76018 | avg_return=21.300 | last_critic_loss=0.967 | last_actor_loss=-0.003 | eps=0.00712\n",
      "global_step=78002 | avg_return=21.400 | last_critic_loss=0.931 | last_actor_loss=-0.036 | eps=0.00676\n",
      "global_step=80032 | avg_return=23.900 | last_critic_loss=0.986 | last_actor_loss=0.003 | eps=0.00643\n",
      "global_step=82003 | avg_return=24.000 | last_critic_loss=0.963 | last_actor_loss=0.011 | eps=0.00610\n",
      "global_step=84011 | avg_return=30.600 | last_critic_loss=0.960 | last_actor_loss=0.016 | eps=0.00580\n",
      "global_step=86024 | avg_return=34.600 | last_critic_loss=0.977 | last_actor_loss=0.035 | eps=0.00551\n",
      "global_step=88001 | avg_return=32.400 | last_critic_loss=0.967 | last_actor_loss=-0.020 | eps=0.00523\n",
      "global_step=90051 | avg_return=38.500 | last_critic_loss=0.980 | last_actor_loss=-0.001 | eps=0.00497\n",
      "global_step=92005 | avg_return=36.700 | last_critic_loss=0.954 | last_actor_loss=-0.027 | eps=0.00472\n",
      "global_step=94002 | avg_return=36.700 | last_critic_loss=0.981 | last_actor_loss=-0.010 | eps=0.00449\n",
      "global_step=96015 | avg_return=36.100 | last_critic_loss=0.977 | last_actor_loss=-0.015 | eps=0.00426\n",
      "global_step=98308 | avg_return=74.200 | last_critic_loss=0.959 | last_actor_loss=-0.004 | eps=0.00405\n",
      "global_step=100034 | avg_return=88.100 | last_critic_loss=0.974 | last_actor_loss=-0.001 | eps=0.00385\n",
      "global_step=102288 | avg_return=134.200 | last_critic_loss=0.958 | last_actor_loss=-0.004 | eps=0.00365\n",
      "global_step=104013 | avg_return=132.400 | last_critic_loss=1.003 | last_actor_loss=0.000 | eps=0.00347\n",
      "global_step=106024 | avg_return=130.100 | last_critic_loss=0.981 | last_actor_loss=-0.005 | eps=0.00330\n",
      "global_step=108126 | avg_return=179.200 | last_critic_loss=0.986 | last_actor_loss=-0.001 | eps=0.00313\n",
      "global_step=110005 | avg_return=173.300 | last_critic_loss=0.979 | last_actor_loss=-0.014 | eps=0.00298\n",
      "global_step=112298 | avg_return=221.700 | last_critic_loss=0.994 | last_actor_loss=0.001 | eps=0.00283\n",
      "Решено!\n"
     ]
    }
   ],
   "source": [
    "def run_actor_critic(\n",
    "        env_name=\"CartPole-v1\",\n",
    "        hidden_dims=(128, 128), lr=5e-4,\n",
    "        total_max_steps=200_000,\n",
    "        train_schedule=16, replay_buffer_size=50000, batch_size=64, critic_updates_per_actor=4,\n",
    "        eval_schedule=1000, smooth_ret_window=10, success_ret=200.\n",
    "):\n",
    "    env = gym.make(env_name)\n",
    "    episode_return_history = deque(maxlen=smooth_ret_window)\n",
    "\n",
    "    agent = ActorCriticAgent(\n",
    "        state_dim=env.observation_space.shape[0], action_dim=env.action_space.n, hidden_dims=hidden_dims,\n",
    "        lr=lr, gamma=.995, critic_rb_size=replay_buffer_size\n",
    "    )\n",
    "\n",
    "    s, _ = env.reset()\n",
    "    done, episode_return = False, 0.\n",
    "    eval = False\n",
    "\n",
    "    last_critic_loss = None\n",
    "    last_actor_loss = None\n",
    "    for global_step in range(1, total_max_steps+1):\n",
    "        a = agent.act(s)\n",
    "        s_next, r, terminated, truncated, _ = env.step(a)\n",
    "        episode_return += r\n",
    "        done = terminated or truncated\n",
    "\n",
    "        # train step\n",
    "        agent.append_to_replay_buffer(s, a, r, s_next, terminated)\n",
    "        critic_loss, actor_loss = agent.update(train_schedule, batch_size, critic_updates_per_actor)\n",
    "        if critic_loss is not None:\n",
    "            last_critic_loss = critic_loss\n",
    "            last_actor_loss = actor_loss\n",
    "\n",
    "        # evaluate\n",
    "        if global_step % eval_schedule == 0:\n",
    "            agent.actor_critic.eps_decay()\n",
    "            eval = True\n",
    "\n",
    "        s = s_next\n",
    "        if done:\n",
    "            if eval:\n",
    "                episode_return_history.append(episode_return)\n",
    "                avg_return = np.mean(episode_return_history)\n",
    "                eps = agent.actor_critic.eps\n",
    "                print(f'{global_step=} | {avg_return=:.3f} | {last_critic_loss=:.3f} | {last_actor_loss=:.3f} | {eps=:.5f}')\n",
    "                if avg_return >= success_ret:\n",
    "                    print('Решено!')\n",
    "                    break\n",
    "\n",
    "            s, _ = env.reset()\n",
    "            done, episode_return = False, 0.\n",
    "            eval = False\n",
    "\n",
    "run_actor_critic(train_schedule=16, eval_schedule=2000, total_max_steps=200_000)"
   ]
  }
 ],
 "metadata": {
  "colab": {
   "provenance": []
  },
  "kernelspec": {
   "display_name": "Python 3 (ipykernel)",
   "language": "python",
   "name": "python3"
  },
  "language_info": {
   "codemirror_mode": {
    "name": "ipython",
    "version": 3
   },
   "file_extension": ".py",
   "mimetype": "text/x-python",
   "name": "python",
   "nbconvert_exporter": "python",
   "pygments_lexer": "ipython3",
   "version": "3.12.3"
  }
 },
 "nbformat": 4,
 "nbformat_minor": 4
}
